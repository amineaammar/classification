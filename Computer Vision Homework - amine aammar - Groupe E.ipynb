{
 "cells": [
  {
   "cell_type": "markdown",
   "id": "2d5524ad-b513-45a6-868b-01a76c7a14d2",
   "metadata": {},
   "source": [
    "#                                                        Introduction to Computer Vision\n",
    "                                                        \n",
    "#                                                                 Homework\n",
    "                                                        \n",
    "#                                                         amine aammar - Groupe E"
   ]
  },
  {
   "cell_type": "markdown",
   "id": "dae2cdd1-7ef5-4aed-ae92-95fdf112b14a",
   "metadata": {},
   "source": [
    "## "
   ]
  },
  {
   "cell_type": "code",
   "execution_count": null,
   "id": "61b85653",
   "metadata": {},
   "outputs": [],
   "source": []
  },
  {
   "cell_type": "markdown",
   "id": "5e3ac28c-96ae-4602-b6ff-9fe4e957db1d",
   "metadata": {},
   "source": [
    "# The goal of this homework is to train a Convolutional Neural Network to perform a classification task on the CIFAR10 data set. The classification consists of classifying objects of the CIFAR10into two categories:\n",
    "\n",
    "• can fly (class 1) grouping objects that can fly, i.e., bird and airplane\n",
    "\n",
    "• cannot fly (class 0) grouping objects that cannot fly, i.e. frog, deer, truck, etc..\n"
   ]
  },
  {
   "cell_type": "markdown",
   "id": "d0cd01c7-57af-4e20-9e25-572316051d79",
   "metadata": {},
   "source": [
    "# Install TensorFlow if it's not already installed\n"
   ]
  },
  {
   "cell_type": "code",
   "execution_count": null,
   "id": "e8c13079-d6eb-4901-b0ee-1074402bd802",
   "metadata": {},
   "outputs": [
    {
     "name": "stdout",
     "output_type": "stream",
     "text": [
      "Requirement already satisfied: tensorflow in c:\\users\\surface\\anaconda3\\lib\\site-packages (2.16.1)\n",
      "Requirement already satisfied: tensorflow-intel==2.16.1 in c:\\users\\surface\\anaconda3\\lib\\site-packages (from tensorflow) (2.16.1)\n",
      "Requirement already satisfied: absl-py>=1.0.0 in c:\\users\\surface\\anaconda3\\lib\\site-packages (from tensorflow-intel==2.16.1->tensorflow) (2.1.0)\n",
      "Requirement already satisfied: astunparse>=1.6.0 in c:\\users\\surface\\anaconda3\\lib\\site-packages (from tensorflow-intel==2.16.1->tensorflow) (1.6.3)\n",
      "Requirement already satisfied: flatbuffers>=23.5.26 in c:\\users\\surface\\anaconda3\\lib\\site-packages (from tensorflow-intel==2.16.1->tensorflow) (24.3.25)\n",
      "Requirement already satisfied: gast!=0.5.0,!=0.5.1,!=0.5.2,>=0.2.1 in c:\\users\\surface\\anaconda3\\lib\\site-packages (from tensorflow-intel==2.16.1->tensorflow) (0.5.4)\n",
      "Requirement already satisfied: google-pasta>=0.1.1 in c:\\users\\surface\\anaconda3\\lib\\site-packages (from tensorflow-intel==2.16.1->tensorflow) (0.2.0)\n",
      "Requirement already satisfied: h5py>=3.10.0 in c:\\users\\surface\\anaconda3\\lib\\site-packages (from tensorflow-intel==2.16.1->tensorflow) (3.11.0)\n",
      "Requirement already satisfied: libclang>=13.0.0 in c:\\users\\surface\\anaconda3\\lib\\site-packages (from tensorflow-intel==2.16.1->tensorflow) (18.1.1)\n",
      "Requirement already satisfied: ml-dtypes~=0.3.1 in c:\\users\\surface\\anaconda3\\lib\\site-packages (from tensorflow-intel==2.16.1->tensorflow) (0.3.2)\n",
      "Requirement already satisfied: opt-einsum>=2.3.2 in c:\\users\\surface\\anaconda3\\lib\\site-packages (from tensorflow-intel==2.16.1->tensorflow) (3.3.0)\n",
      "Requirement already satisfied: packaging in c:\\users\\surface\\anaconda3\\lib\\site-packages (from tensorflow-intel==2.16.1->tensorflow) (23.1)\n",
      "Requirement already satisfied: protobuf!=4.21.0,!=4.21.1,!=4.21.2,!=4.21.3,!=4.21.4,!=4.21.5,<5.0.0dev,>=3.20.3 in c:\\users\\surface\\anaconda3\\lib\\site-packages (from tensorflow-intel==2.16.1->tensorflow) (3.20.3)\n",
      "Requirement already satisfied: requests<3,>=2.21.0 in c:\\users\\surface\\anaconda3\\lib\\site-packages (from tensorflow-intel==2.16.1->tensorflow) (2.31.0)\n",
      "Requirement already satisfied: setuptools in c:\\users\\surface\\anaconda3\\lib\\site-packages (from tensorflow-intel==2.16.1->tensorflow) (68.2.2)\n",
      "Requirement already satisfied: six>=1.12.0 in c:\\users\\surface\\anaconda3\\lib\\site-packages (from tensorflow-intel==2.16.1->tensorflow) (1.16.0)\n",
      "Requirement already satisfied: termcolor>=1.1.0 in c:\\users\\surface\\anaconda3\\lib\\site-packages (from tensorflow-intel==2.16.1->tensorflow) (2.4.0)\n",
      "Requirement already satisfied: typing-extensions>=3.6.6 in c:\\users\\surface\\anaconda3\\lib\\site-packages (from tensorflow-intel==2.16.1->tensorflow) (4.9.0)\n",
      "Requirement already satisfied: wrapt>=1.11.0 in c:\\users\\surface\\anaconda3\\lib\\site-packages (from tensorflow-intel==2.16.1->tensorflow) (1.14.1)\n",
      "Requirement already satisfied: grpcio<2.0,>=1.24.3 in c:\\users\\surface\\anaconda3\\lib\\site-packages (from tensorflow-intel==2.16.1->tensorflow) (1.64.0)\n",
      "Requirement already satisfied: tensorboard<2.17,>=2.16 in c:\\users\\surface\\anaconda3\\lib\\site-packages (from tensorflow-intel==2.16.1->tensorflow) (2.16.2)\n",
      "Requirement already satisfied: keras>=3.0.0 in c:\\users\\surface\\anaconda3\\lib\\site-packages (from tensorflow-intel==2.16.1->tensorflow) (3.3.3)\n",
      "Requirement already satisfied: tensorflow-io-gcs-filesystem>=0.23.1 in c:\\users\\surface\\anaconda3\\lib\\site-packages (from tensorflow-intel==2.16.1->tensorflow) (0.31.0)\n",
      "Requirement already satisfied: numpy<2.0.0,>=1.23.5 in c:\\users\\surface\\anaconda3\\lib\\site-packages (from tensorflow-intel==2.16.1->tensorflow) (1.26.4)\n",
      "Requirement already satisfied: wheel<1.0,>=0.23.0 in c:\\users\\surface\\anaconda3\\lib\\site-packages (from astunparse>=1.6.0->tensorflow-intel==2.16.1->tensorflow) (0.41.2)\n",
      "Requirement already satisfied: rich in c:\\users\\surface\\anaconda3\\lib\\site-packages (from keras>=3.0.0->tensorflow-intel==2.16.1->tensorflow) (13.3.5)\n",
      "Requirement already satisfied: namex in c:\\users\\surface\\anaconda3\\lib\\site-packages (from keras>=3.0.0->tensorflow-intel==2.16.1->tensorflow) (0.0.8)\n",
      "Requirement already satisfied: optree in c:\\users\\surface\\anaconda3\\lib\\site-packages (from keras>=3.0.0->tensorflow-intel==2.16.1->tensorflow) (0.11.0)\n",
      "Requirement already satisfied: charset-normalizer<4,>=2 in c:\\users\\surface\\anaconda3\\lib\\site-packages (from requests<3,>=2.21.0->tensorflow-intel==2.16.1->tensorflow) (2.0.4)\n",
      "Requirement already satisfied: idna<4,>=2.5 in c:\\users\\surface\\anaconda3\\lib\\site-packages (from requests<3,>=2.21.0->tensorflow-intel==2.16.1->tensorflow) (3.4)\n",
      "Requirement already satisfied: urllib3<3,>=1.21.1 in c:\\users\\surface\\anaconda3\\lib\\site-packages (from requests<3,>=2.21.0->tensorflow-intel==2.16.1->tensorflow) (2.0.7)\n",
      "Requirement already satisfied: certifi>=2017.4.17 in c:\\users\\surface\\anaconda3\\lib\\site-packages (from requests<3,>=2.21.0->tensorflow-intel==2.16.1->tensorflow) (2024.2.2)\n",
      "Requirement already satisfied: markdown>=2.6.8 in c:\\users\\surface\\anaconda3\\lib\\site-packages (from tensorboard<2.17,>=2.16->tensorflow-intel==2.16.1->tensorflow) (3.4.1)\n",
      "Requirement already satisfied: tensorboard-data-server<0.8.0,>=0.7.0 in c:\\users\\surface\\anaconda3\\lib\\site-packages (from tensorboard<2.17,>=2.16->tensorflow-intel==2.16.1->tensorflow) (0.7.2)\n",
      "Requirement already satisfied: werkzeug>=1.0.1 in c:\\users\\surface\\anaconda3\\lib\\site-packages (from tensorboard<2.17,>=2.16->tensorflow-intel==2.16.1->tensorflow) (2.2.3)\n",
      "Requirement already satisfied: MarkupSafe>=2.1.1 in c:\\users\\surface\\anaconda3\\lib\\site-packages (from werkzeug>=1.0.1->tensorboard<2.17,>=2.16->tensorflow-intel==2.16.1->tensorflow) (2.1.3)\n",
      "Requirement already satisfied: markdown-it-py<3.0.0,>=2.2.0 in c:\\users\\surface\\anaconda3\\lib\\site-packages (from rich->keras>=3.0.0->tensorflow-intel==2.16.1->tensorflow) (2.2.0)\n",
      "Requirement already satisfied: pygments<3.0.0,>=2.13.0 in c:\\users\\surface\\anaconda3\\lib\\site-packages (from rich->keras>=3.0.0->tensorflow-intel==2.16.1->tensorflow) (2.15.1)\n",
      "Requirement already satisfied: mdurl~=0.1 in c:\\users\\surface\\anaconda3\\lib\\site-packages (from markdown-it-py<3.0.0,>=2.2.0->rich->keras>=3.0.0->tensorflow-intel==2.16.1->tensorflow) (0.1.0)\n"
     ]
    }
   ],
   "source": [
    "!pip install tensorflow"
   ]
  },
  {
   "cell_type": "markdown",
   "id": "58aa9df2-7981-4cb4-b1da-9c9bfe8ee0f7",
   "metadata": {},
   "source": [
    "# Import necessary libraries\n"
   ]
  },
  {
   "cell_type": "code",
   "execution_count": null,
   "id": "c8749919-2e11-4a5f-bc1e-79a80d6fd8d2",
   "metadata": {},
   "outputs": [],
   "source": [
    "import tensorflow as tf\n",
    "from tensorflow.keras import datasets, layers, models, callbacks\n",
    "from sklearn.metrics import classification_report, confusion_matrix\n",
    "import numpy as np\n",
    "import seaborn as sns\n",
    "import matplotlib.pyplot as plt"
   ]
  },
  {
   "cell_type": "markdown",
   "id": "88f980a0-3468-4307-b120-93db865efafc",
   "metadata": {},
   "source": [
    "# Load and preprocess the CIFAR-10 dataset\n"
   ]
  },
  {
   "cell_type": "code",
   "execution_count": null,
   "id": "37d3c531-f1e6-40e4-97f2-856835258793",
   "metadata": {},
   "outputs": [],
   "source": [
    "(x_train, y_train), (x_test, y_test) = datasets.cifar10.load_data()"
   ]
  },
  {
   "cell_type": "markdown",
   "id": "0116f6f8-d140-4adf-a526-81472df390d9",
   "metadata": {},
   "source": [
    "# Define the class labels for CIFAR-10\n"
   ]
  },
  {
   "cell_type": "code",
   "execution_count": null,
   "id": "287f9ec5-72ea-4fba-b312-a03e7430e6ab",
   "metadata": {},
   "outputs": [],
   "source": [
    "class_names = ['airplane', 'automobile', 'bird', 'cat', 'deer', 'dog', 'frog', 'horse', 'ship', 'truck']"
   ]
  },
  {
   "cell_type": "markdown",
   "id": "5dfd272f-3994-4eb6-b26e-7eb056ec9a94",
   "metadata": {},
   "source": [
    "# Function to map the classes to can fly (1) and cannot fly (0)\n"
   ]
  },
  {
   "cell_type": "code",
   "execution_count": null,
   "id": "4ff8a8a6-4a12-4766-a81b-b6018eab3040",
   "metadata": {},
   "outputs": [],
   "source": [
    "def map_labels(y):\n",
    "    y = y.flatten()\n",
    "    return np.where(np.isin(y, [0, 2]), 1, 0)"
   ]
  },
  {
   "cell_type": "markdown",
   "id": "5b16612c-5f05-49d5-afe9-f0948f96e344",
   "metadata": {},
   "source": [
    "# Map the labels\n"
   ]
  },
  {
   "cell_type": "code",
   "execution_count": null,
   "id": "8b4aa2f0-cd9c-409a-a815-90e5a31cb43e",
   "metadata": {},
   "outputs": [],
   "source": [
    "y_train = map_labels(y_train)\n",
    "y_test = map_labels(y_test)"
   ]
  },
  {
   "cell_type": "markdown",
   "id": "88ef12a3-6689-49a6-91d0-56d796f754d4",
   "metadata": {},
   "source": [
    "# Normalize the pixel values to be between 0 and 1\n"
   ]
  },
  {
   "cell_type": "code",
   "execution_count": null,
   "id": "2ba3781f-2752-4c49-837b-3575005184cc",
   "metadata": {},
   "outputs": [],
   "source": [
    "x_train, x_test = x_train / 255.0, x_test / 255.0"
   ]
  },
  {
   "cell_type": "markdown",
   "id": "7f8e3101-7ea7-4b34-90f1-44d0361ca8de",
   "metadata": {},
   "source": [
    "# Build the CNN model with a Binary classification output\n"
   ]
  },
  {
   "cell_type": "code",
   "execution_count": null,
   "id": "50828e5b-b5fe-42ac-a0d2-835e1320346a",
   "metadata": {},
   "outputs": [],
   "source": [
    "model = models.Sequential([\n",
    "    layers.Input(shape=(32, 32, 3)),\n",
    "    layers.Conv2D(32, (3, 3), activation='relu'),\n",
    "    layers.MaxPooling2D((2, 2)),\n",
    "    layers.Conv2D(64, (3, 3), activation='relu'),\n",
    "    layers.MaxPooling2D((2, 2)),\n",
    "    layers.Conv2D(64, (3, 3), activation='relu'),\n",
    "    layers.Flatten(),\n",
    "    layers.Dense(64, activation='relu'),\n",
    "    layers.Dense(1, activation='sigmoid') \n",
    "])"
   ]
  },
  {
   "cell_type": "markdown",
   "id": "5f10041c-34ff-4a21-aa3b-70de26ac6284",
   "metadata": {},
   "source": [
    "# Compile the model\n"
   ]
  },
  {
   "cell_type": "code",
   "execution_count": null,
   "id": "c1211872-0e47-4cfe-bb3c-09bd788af36f",
   "metadata": {},
   "outputs": [],
   "source": [
    "model.compile(optimizer='adam',\n",
    "              loss='binary_crossentropy',\n",
    "              metrics=['accuracy'])"
   ]
  },
  {
   "cell_type": "markdown",
   "id": "d064d79c-1e3c-4806-b4ed-2f183df422a4",
   "metadata": {},
   "source": [
    "# Define callbacks for early stopping and model checkpoint\n"
   ]
  },
  {
   "cell_type": "code",
   "execution_count": null,
   "id": "27ad20cc-ac58-4584-a015-3c417c8cbb40",
   "metadata": {},
   "outputs": [],
   "source": [
    "early_stopping = callbacks.EarlyStopping(monitor='val_loss', patience=5, restore_best_weights=True)\n",
    "model_checkpoint = callbacks.ModelCheckpoint('best_model.keras', save_best_only=True, monitor='val_loss')"
   ]
  },
  {
   "cell_type": "markdown",
   "id": "62250f2a-6d22-4738-b066-7fa75c9b6802",
   "metadata": {},
   "source": [
    "# Train the model\n"
   ]
  },
  {
   "cell_type": "code",
   "execution_count": null,
   "id": "5d9d0313-7e61-484e-9adc-03fcf70a7f78",
   "metadata": {},
   "outputs": [
    {
     "name": "stdout",
     "output_type": "stream",
     "text": [
      "Epoch 1/20\n",
      "\u001b[1m1563/1563\u001b[0m \u001b[32m━━━━━━━━━━━━━━━━━━━━\u001b[0m\u001b[37m\u001b[0m \u001b[1m52s\u001b[0m 25ms/step - accuracy: 0.8185 - loss: 0.4374 - val_accuracy: 0.8578 - val_loss: 0.3437\n",
      "Epoch 2/20\n",
      "\u001b[1m1563/1563\u001b[0m \u001b[32m━━━━━━━━━━━━━━━━━━━━\u001b[0m\u001b[37m\u001b[0m \u001b[1m39s\u001b[0m 24ms/step - accuracy: 0.8574 - loss: 0.3439 - val_accuracy: 0.8693 - val_loss: 0.3272\n",
      "Epoch 3/20\n",
      "\u001b[1m1563/1563\u001b[0m \u001b[32m━━━━━━━━━━━━━━━━━━━━\u001b[0m\u001b[37m\u001b[0m \u001b[1m38s\u001b[0m 24ms/step - accuracy: 0.8710 - loss: 0.3135 - val_accuracy: 0.8748 - val_loss: 0.3167\n",
      "Epoch 4/20\n",
      "\u001b[1m1563/1563\u001b[0m \u001b[32m━━━━━━━━━━━━━━━━━━━━\u001b[0m\u001b[37m\u001b[0m \u001b[1m42s\u001b[0m 25ms/step - accuracy: 0.8811 - loss: 0.2913 - val_accuracy: 0.8801 - val_loss: 0.2920\n",
      "Epoch 5/20\n",
      "\u001b[1m1563/1563\u001b[0m \u001b[32m━━━━━━━━━━━━━━━━━━━━\u001b[0m\u001b[37m\u001b[0m \u001b[1m39s\u001b[0m 24ms/step - accuracy: 0.8921 - loss: 0.2654 - val_accuracy: 0.8713 - val_loss: 0.3164\n",
      "Epoch 6/20\n",
      "\u001b[1m1563/1563\u001b[0m \u001b[32m━━━━━━━━━━━━━━━━━━━━\u001b[0m\u001b[37m\u001b[0m \u001b[1m41s\u001b[0m 24ms/step - accuracy: 0.9021 - loss: 0.2443 - val_accuracy: 0.8790 - val_loss: 0.2930\n",
      "Epoch 7/20\n",
      "\u001b[1m1563/1563\u001b[0m \u001b[32m━━━━━━━━━━━━━━━━━━━━\u001b[0m\u001b[37m\u001b[0m \u001b[1m37s\u001b[0m 23ms/step - accuracy: 0.9100 - loss: 0.2238 - val_accuracy: 0.8891 - val_loss: 0.2737\n",
      "Epoch 8/20\n",
      "\u001b[1m1563/1563\u001b[0m \u001b[32m━━━━━━━━━━━━━━━━━━━━\u001b[0m\u001b[37m\u001b[0m \u001b[1m41s\u001b[0m 23ms/step - accuracy: 0.9192 - loss: 0.2045 - val_accuracy: 0.8893 - val_loss: 0.2984\n",
      "Epoch 9/20\n",
      "\u001b[1m1563/1563\u001b[0m \u001b[32m━━━━━━━━━━━━━━━━━━━━\u001b[0m\u001b[37m\u001b[0m \u001b[1m37s\u001b[0m 24ms/step - accuracy: 0.9234 - loss: 0.1909 - val_accuracy: 0.8936 - val_loss: 0.2940\n",
      "Epoch 10/20\n",
      "\u001b[1m1563/1563\u001b[0m \u001b[32m━━━━━━━━━━━━━━━━━━━━\u001b[0m\u001b[37m\u001b[0m \u001b[1m28s\u001b[0m 15ms/step - accuracy: 0.9332 - loss: 0.1680 - val_accuracy: 0.8981 - val_loss: 0.2831\n",
      "Epoch 11/20\n",
      "\u001b[1m1563/1563\u001b[0m \u001b[32m━━━━━━━━━━━━━━━━━━━━\u001b[0m\u001b[37m\u001b[0m \u001b[1m25s\u001b[0m 16ms/step - accuracy: 0.9399 - loss: 0.1535 - val_accuracy: 0.8909 - val_loss: 0.3084\n",
      "Epoch 12/20\n",
      "\u001b[1m1563/1563\u001b[0m \u001b[32m━━━━━━━━━━━━━━━━━━━━\u001b[0m\u001b[37m\u001b[0m \u001b[1m40s\u001b[0m 15ms/step - accuracy: 0.9484 - loss: 0.1340 - val_accuracy: 0.8902 - val_loss: 0.3233\n"
     ]
    }
   ],
   "source": [
    "history = model.fit(x_train, y_train, epochs=20, \n",
    "                    validation_data=(x_test, y_test),\n",
    "                    callbacks=[early_stopping, model_checkpoint])"
   ]
  },
  {
   "cell_type": "markdown",
   "id": "74f23178-dae4-40da-820b-4908db9f499b",
   "metadata": {},
   "source": [
    "# Evaluate the model on the test data\n"
   ]
  },
  {
   "cell_type": "code",
   "execution_count": null,
   "id": "9fb53f9e-070d-4ab6-b434-b07e2a0f6773",
   "metadata": {},
   "outputs": [
    {
     "name": "stdout",
     "output_type": "stream",
     "text": [
      "313/313 - 2s - 5ms/step - accuracy: 0.8891 - loss: 0.2737\n",
      "\n",
      "Test accuracy: 0.8891000151634216\n"
     ]
    }
   ],
   "source": [
    "test_loss, test_acc = model.evaluate(x_test, y_test, verbose=2)\n",
    "print(f'\\nTest accuracy: {test_acc}')"
   ]
  },
  {
   "cell_type": "markdown",
   "id": "087d0870-5e0d-4c66-9bf2-8da757a2e75b",
   "metadata": {},
   "source": [
    "An accuracy of 88.91000151634216% is quite good, indicating that the model performs well in distinguishing between objects that can fly and those that cannot fly in the CIFAR-10 dataset."
   ]
  },
  {
   "cell_type": "markdown",
   "id": "3aae5046-7a53-4651-8bf7-13e805e6780e",
   "metadata": {},
   "source": [
    "# Predict the test set\n"
   ]
  },
  {
   "cell_type": "code",
   "execution_count": null,
   "id": "7678057d-5043-454b-a750-92cb6b28ff61",
   "metadata": {},
   "outputs": [
    {
     "name": "stdout",
     "output_type": "stream",
     "text": [
      "\u001b[1m313/313\u001b[0m \u001b[32m━━━━━━━━━━━━━━━━━━━━\u001b[0m\u001b[37m\u001b[0m \u001b[1m2s\u001b[0m 6ms/step\n"
     ]
    }
   ],
   "source": [
    "y_pred_prob = model.predict(x_test)\n",
    "y_pred = (y_pred_prob > 0.5).astype(\"int32\")"
   ]
  },
  {
   "cell_type": "markdown",
   "id": "3399cf26-0d73-4efc-b734-4e7ed25eb310",
   "metadata": {},
   "source": [
    "# Calculate evaluation metrics\n"
   ]
  },
  {
   "cell_type": "code",
   "execution_count": null,
   "id": "c1d5c75a-2e0a-4c9e-9b2e-09d7314047f7",
   "metadata": {},
   "outputs": [
    {
     "name": "stdout",
     "output_type": "stream",
     "text": [
      "Classification Report:\n",
      "               precision    recall  f1-score   support\n",
      "\n",
      "  cannot fly       0.92      0.95      0.93      8000\n",
      "     can fly       0.76      0.66      0.70      2000\n",
      "\n",
      "    accuracy                           0.89     10000\n",
      "   macro avg       0.84      0.80      0.82     10000\n",
      "weighted avg       0.88      0.89      0.89     10000\n",
      "\n"
     ]
    }
   ],
   "source": [
    "print(\"Classification Report:\\n\", classification_report(y_test, y_pred, target_names=['cannot fly', 'can fly']))"
   ]
  },
  {
   "cell_type": "markdown",
   "id": "04edd54b-6923-49e2-87c9-23203b52fd72",
   "metadata": {},
   "source": [
    "The model shows high precision and recall for the \"cannot fly\" class, indicating reliable performance for this category. The \"can fly\" class has lower precision and recall, suggesting the model struggles more with this category."
   ]
  },
  {
   "cell_type": "markdown",
   "id": "4afe2ce4-e8c4-466f-9e59-bf5eef39eef4",
   "metadata": {},
   "source": [
    "# Confusion matrix\n"
   ]
  },
  {
   "cell_type": "code",
   "execution_count": null,
   "id": "2e659922-d944-44d3-808f-9a861be0f52e",
   "metadata": {},
   "outputs": [
    {
     "data": {
      "image/png": "[encoded data removed]",
      "text/plain": [
       "<Figure size 800x600 with 2 Axes>"
      ]
     },
     "metadata": {},
     "output_type": "display_data"
    }
   ],
   "source": [
    "conf_matrix = confusion_matrix(y_test, y_pred)\n",
    "plt.figure(figsize=(8, 6))\n",
    "sns.heatmap(conf_matrix, annot=True, fmt='d', cmap='Bleus', xticklabels=['cannot fly', 'can fly'], yticklabels=['cannot fly', 'can fly'])\n",
    "plt.xlabel('Predicted')\n",
    "plt.ylabel('Actual')\n",
    "plt.title('Confusion Matrix')\n",
    "\n",
    "plt.show()"
   ]
  },
  {
   "cell_type": "markdown",
   "id": "82393df0-c6be-4db1-987f-56f69fc9e408",
   "metadata": {},
   "source": [
    "Confusion Matrix\n",
    "True Negatives (TN): 7581 instances correctly predicted as \"cannot fly\".\n",
    "False Positives (FP): 419 instances incorrectly predicted as \"can fly\".\n",
    "False Negatives (FN): 569 instances incorrectly predicted as \"cannot fly\".\n",
    "True Positives (TP): 1431 instances correctly predicted as \"can fly\".\n",
    "Conclusion: The model has a high true negative rate, indicating it is effective at identifying instances that \"cannot fly\". There is a moderate number of false negatives, suggesting some \"can fly\" instances are missed."
   ]
  },
  {
   "cell_type": "code",
   "execution_count": null,
   "id": "2b2db665-3d2c-4a04-93cd-25a196bef899",
   "metadata": {},
   "outputs": [],
   "source": []
  }
 ],
 "metadata": {
  "kernelspec": {
   "display_name": "Python 3 (ipykernel)",
   "language": "python",
   "name": "python3"
  },
  "language_info": {
   "codemirror_mode": {
    "name": "ipython",
    "version": 3
   },
   "file_extension": ".py",
   "mimetype": "text/x-python",
   "name": "python",
   "nbconvert_exporter": "python",
   "pygments_lexer": "ipython3",
   "version": "3.11.7"
  }
 },
 "nbformat": 4,
 "nbformat_minor": 5
}
